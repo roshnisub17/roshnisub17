{
  "nbformat": 4,
  "nbformat_minor": 0,
  "metadata": {
    "colab": {
      "provenance": []
    },
    "kernelspec": {
      "name": "ir",
      "display_name": "R"
    },
    "language_info": {
      "name": "R"
    }
  },
  "cells": [
    {
      "cell_type": "markdown",
      "source": [
        "#Problem 1: Use R as a calculator to compute the following values.  "
      ],
      "metadata": {
        "id": "QHSlMYYQAx5-"
      }
    },
    {
      "cell_type": "markdown",
      "source": [
        "a.27(38-17) assign to variable a\n"
      ],
      "metadata": {
        "id": "jdFSQCEQA1iC"
      }
    },
    {
      "cell_type": "code",
      "source": [
        "#assigning to 'a' and computing\n",
        "a <- 27 * (38 - 17)\n",
        "\n",
        "#print value\n",
        "a\n",
        "\n"
      ],
      "metadata": {
        "colab": {
          "base_uri": "https://localhost:8080/",
          "height": 34
        },
        "id": "aLMgISduBfX2",
        "outputId": "351e7f00-68f5-4791-f308-e7459bf2479b"
      },
      "execution_count": null,
      "outputs": [
        {
          "output_type": "display_data",
          "data": {
            "text/html": [
              "567"
            ],
            "text/markdown": "567",
            "text/latex": "567",
            "text/plain": [
              "[1] 567"
            ]
          },
          "metadata": {}
        }
      ]
    },
    {
      "cell_type": "markdown",
      "source": [
        "b. ln(147) assign to variable b"
      ],
      "metadata": {
        "id": "BKyIuMyMCOUM"
      }
    },
    {
      "cell_type": "code",
      "source": [
        "# Calculate and assigning to 'b'\n",
        "b <- log(147)\n",
        "\n",
        "# Printing the value\n",
        "b\n"
      ],
      "metadata": {
        "colab": {
          "base_uri": "https://localhost:8080/",
          "height": 34
        },
        "id": "u0Xq-qwWCRSZ",
        "outputId": "d2ff4abf-f308-40dc-cbe7-18e1a2f325ad"
      },
      "execution_count": null,
      "outputs": [
        {
          "output_type": "display_data",
          "data": {
            "text/html": [
              "4.99043258677874"
            ],
            "text/markdown": "4.99043258677874",
            "text/latex": "4.99043258677874",
            "text/plain": [
              "[1] 4.990433"
            ]
          },
          "metadata": {}
        }
      ]
    },
    {
      "cell_type": "markdown",
      "source": [
        "c. The square root of 436/12 assign to variable c"
      ],
      "metadata": {
        "id": "RQGPk3U6CjeJ"
      }
    },
    {
      "cell_type": "code",
      "source": [
        "# Calculating and assigning to 'c'\n",
        "c <- sqrt(436/12)\n",
        "\n",
        "# Printing 'c'\n",
        "c\n"
      ],
      "metadata": {
        "colab": {
          "base_uri": "https://localhost:8080/",
          "height": 34
        },
        "id": "UnOZFepsCkvC",
        "outputId": "ab5b5c86-e4de-44a3-8abe-a06a247aabf8"
      },
      "execution_count": null,
      "outputs": [
        {
          "output_type": "display_data",
          "data": {
            "text/html": [
              "6.02771377334171"
            ],
            "text/markdown": "6.02771377334171",
            "text/latex": "6.02771377334171",
            "text/plain": [
              "[1] 6.027714"
            ]
          },
          "metadata": {}
        }
      ]
    },
    {
      "cell_type": "markdown",
      "source": [
        "#Problem 2: Create the following vectors in R."
      ],
      "metadata": {
        "id": "JyW2H9PEC2iF"
      }
    },
    {
      "cell_type": "markdown",
      "source": [
        "a = (5, 10, 15, 20, ..., 160)\n"
      ],
      "metadata": {
        "id": "JqpGEs1IC6dh"
      }
    },
    {
      "cell_type": "code",
      "source": [
        "# Creating vector 'a' with values from 5 to 160 in increments of 5\n",
        "a <- seq(5, 160, by = 5)\n",
        "\n",
        "# Printing 'a'\n",
        "a\n"
      ],
      "metadata": {
        "colab": {
          "base_uri": "https://localhost:8080/",
          "height": 34
        },
        "id": "UMAiIbQNDGJa",
        "outputId": "b27471ab-6bcd-42a4-fe40-814b46453149"
      },
      "execution_count": null,
      "outputs": [
        {
          "output_type": "display_data",
          "data": {
            "text/html": [
              "<style>\n",
              ".list-inline {list-style: none; margin:0; padding: 0}\n",
              ".list-inline>li {display: inline-block}\n",
              ".list-inline>li:not(:last-child)::after {content: \"\\00b7\"; padding: 0 .5ex}\n",
              "</style>\n",
              "<ol class=list-inline><li>5</li><li>10</li><li>15</li><li>20</li><li>25</li><li>30</li><li>35</li><li>40</li><li>45</li><li>50</li><li>55</li><li>60</li><li>65</li><li>70</li><li>75</li><li>80</li><li>85</li><li>90</li><li>95</li><li>100</li><li>105</li><li>110</li><li>115</li><li>120</li><li>125</li><li>130</li><li>135</li><li>140</li><li>145</li><li>150</li><li>155</li><li>160</li></ol>\n"
            ],
            "text/markdown": "1. 5\n2. 10\n3. 15\n4. 20\n5. 25\n6. 30\n7. 35\n8. 40\n9. 45\n10. 50\n11. 55\n12. 60\n13. 65\n14. 70\n15. 75\n16. 80\n17. 85\n18. 90\n19. 95\n20. 100\n21. 105\n22. 110\n23. 115\n24. 120\n25. 125\n26. 130\n27. 135\n28. 140\n29. 145\n30. 150\n31. 155\n32. 160\n\n\n",
            "text/latex": "\\begin{enumerate*}\n\\item 5\n\\item 10\n\\item 15\n\\item 20\n\\item 25\n\\item 30\n\\item 35\n\\item 40\n\\item 45\n\\item 50\n\\item 55\n\\item 60\n\\item 65\n\\item 70\n\\item 75\n\\item 80\n\\item 85\n\\item 90\n\\item 95\n\\item 100\n\\item 105\n\\item 110\n\\item 115\n\\item 120\n\\item 125\n\\item 130\n\\item 135\n\\item 140\n\\item 145\n\\item 150\n\\item 155\n\\item 160\n\\end{enumerate*}\n",
            "text/plain": [
              " [1]   5  10  15  20  25  30  35  40  45  50  55  60  65  70  75  80  85  90  95\n",
              "[20] 100 105 110 115 120 125 130 135 140 145 150 155 160"
            ]
          },
          "metadata": {}
        }
      ]
    },
    {
      "cell_type": "markdown",
      "source": [
        "b = (87, 86, 85, ..., 56)"
      ],
      "metadata": {
        "id": "hYtIjY55DP4p"
      }
    },
    {
      "cell_type": "code",
      "source": [
        "# Creating vector 'b' with values from 87 to 56 in decrements of 1\n",
        "b <- seq(87, 56, by = -1)\n",
        "\n",
        "# Printing 'b'\n",
        "b\n"
      ],
      "metadata": {
        "colab": {
          "base_uri": "https://localhost:8080/",
          "height": 34
        },
        "id": "mxBmCS0MDUjw",
        "outputId": "e19cac23-2b82-46cd-b920-c7a474d8fc3f"
      },
      "execution_count": null,
      "outputs": [
        {
          "output_type": "display_data",
          "data": {
            "text/html": [
              "<style>\n",
              ".list-inline {list-style: none; margin:0; padding: 0}\n",
              ".list-inline>li {display: inline-block}\n",
              ".list-inline>li:not(:last-child)::after {content: \"\\00b7\"; padding: 0 .5ex}\n",
              "</style>\n",
              "<ol class=list-inline><li>87</li><li>86</li><li>85</li><li>84</li><li>83</li><li>82</li><li>81</li><li>80</li><li>79</li><li>78</li><li>77</li><li>76</li><li>75</li><li>74</li><li>73</li><li>72</li><li>71</li><li>70</li><li>69</li><li>68</li><li>67</li><li>66</li><li>65</li><li>64</li><li>63</li><li>62</li><li>61</li><li>60</li><li>59</li><li>58</li><li>57</li><li>56</li></ol>\n"
            ],
            "text/markdown": "1. 87\n2. 86\n3. 85\n4. 84\n5. 83\n6. 82\n7. 81\n8. 80\n9. 79\n10. 78\n11. 77\n12. 76\n13. 75\n14. 74\n15. 73\n16. 72\n17. 71\n18. 70\n19. 69\n20. 68\n21. 67\n22. 66\n23. 65\n24. 64\n25. 63\n26. 62\n27. 61\n28. 60\n29. 59\n30. 58\n31. 57\n32. 56\n\n\n",
            "text/latex": "\\begin{enumerate*}\n\\item 87\n\\item 86\n\\item 85\n\\item 84\n\\item 83\n\\item 82\n\\item 81\n\\item 80\n\\item 79\n\\item 78\n\\item 77\n\\item 76\n\\item 75\n\\item 74\n\\item 73\n\\item 72\n\\item 71\n\\item 70\n\\item 69\n\\item 68\n\\item 67\n\\item 66\n\\item 65\n\\item 64\n\\item 63\n\\item 62\n\\item 61\n\\item 60\n\\item 59\n\\item 58\n\\item 57\n\\item 56\n\\end{enumerate*}\n",
            "text/plain": [
              " [1] 87 86 85 84 83 82 81 80 79 78 77 76 75 74 73 72 71 70 69 68 67 66 65 64 63\n",
              "[26] 62 61 60 59 58 57 56"
            ]
          },
          "metadata": {}
        }
      ]
    },
    {
      "cell_type": "markdown",
      "source": [
        "Use vector arithmetic to multiply these vectors and call the result d.  Select subsets of d to identify the following."
      ],
      "metadata": {
        "id": "J32c9ViMDgAu"
      }
    },
    {
      "cell_type": "code",
      "source": [
        "# Creating vectors 'a' and 'b'\n",
        "a <- seq(5, 160, by = 5)\n",
        "b <- seq(87, 56, by = -1)\n",
        "\n",
        "# Multiplying vectors 'a' and 'b' to get 'd'\n",
        "d <- a * b\n",
        "\n",
        "# Printing 'd'\n",
        "d\n"
      ],
      "metadata": {
        "colab": {
          "base_uri": "https://localhost:8080/",
          "height": 51
        },
        "id": "KfVd3JwODknr",
        "outputId": "1ec36abc-512b-42f1-c6c4-03205d91bb03"
      },
      "execution_count": null,
      "outputs": [
        {
          "output_type": "display_data",
          "data": {
            "text/html": [
              "<style>\n",
              ".list-inline {list-style: none; margin:0; padding: 0}\n",
              ".list-inline>li {display: inline-block}\n",
              ".list-inline>li:not(:last-child)::after {content: \"\\00b7\"; padding: 0 .5ex}\n",
              "</style>\n",
              "<ol class=list-inline><li>435</li><li>860</li><li>1275</li><li>1680</li><li>2075</li><li>2460</li><li>2835</li><li>3200</li><li>3555</li><li>3900</li><li>4235</li><li>4560</li><li>4875</li><li>5180</li><li>5475</li><li>5760</li><li>6035</li><li>6300</li><li>6555</li><li>6800</li><li>7035</li><li>7260</li><li>7475</li><li>7680</li><li>7875</li><li>8060</li><li>8235</li><li>8400</li><li>8555</li><li>8700</li><li>8835</li><li>8960</li></ol>\n"
            ],
            "text/markdown": "1. 435\n2. 860\n3. 1275\n4. 1680\n5. 2075\n6. 2460\n7. 2835\n8. 3200\n9. 3555\n10. 3900\n11. 4235\n12. 4560\n13. 4875\n14. 5180\n15. 5475\n16. 5760\n17. 6035\n18. 6300\n19. 6555\n20. 6800\n21. 7035\n22. 7260\n23. 7475\n24. 7680\n25. 7875\n26. 8060\n27. 8235\n28. 8400\n29. 8555\n30. 8700\n31. 8835\n32. 8960\n\n\n",
            "text/latex": "\\begin{enumerate*}\n\\item 435\n\\item 860\n\\item 1275\n\\item 1680\n\\item 2075\n\\item 2460\n\\item 2835\n\\item 3200\n\\item 3555\n\\item 3900\n\\item 4235\n\\item 4560\n\\item 4875\n\\item 5180\n\\item 5475\n\\item 5760\n\\item 6035\n\\item 6300\n\\item 6555\n\\item 6800\n\\item 7035\n\\item 7260\n\\item 7475\n\\item 7680\n\\item 7875\n\\item 8060\n\\item 8235\n\\item 8400\n\\item 8555\n\\item 8700\n\\item 8835\n\\item 8960\n\\end{enumerate*}\n",
            "text/plain": [
              " [1]  435  860 1275 1680 2075 2460 2835 3200 3555 3900 4235 4560 4875 5180 5475\n",
              "[16] 5760 6035 6300 6555 6800 7035 7260 7475 7680 7875 8060 8235 8400 8555 8700\n",
              "[31] 8835 8960"
            ]
          },
          "metadata": {}
        }
      ]
    },
    {
      "cell_type": "markdown",
      "source": [
        "a. What are the 19th, 20th, and 21st elements of d?"
      ],
      "metadata": {
        "id": "it78bezdDsP2"
      }
    },
    {
      "cell_type": "code",
      "source": [
        "# Finding the 19th, 20th, and 21st elements of vector 'd'\n",
        "elements_19_to_21 <- d[19:21]\n",
        "\n",
        "# Printing the result\n",
        "elements_19_to_21\n"
      ],
      "metadata": {
        "colab": {
          "base_uri": "https://localhost:8080/",
          "height": 34
        },
        "id": "v9KYY1WNDvo3",
        "outputId": "d2c513f6-7004-44f4-c94b-62648944c4f1"
      },
      "execution_count": null,
      "outputs": [
        {
          "output_type": "display_data",
          "data": {
            "text/html": [
              "<style>\n",
              ".list-inline {list-style: none; margin:0; padding: 0}\n",
              ".list-inline>li {display: inline-block}\n",
              ".list-inline>li:not(:last-child)::after {content: \"\\00b7\"; padding: 0 .5ex}\n",
              "</style>\n",
              "<ol class=list-inline><li>6555</li><li>6800</li><li>7035</li></ol>\n"
            ],
            "text/markdown": "1. 6555\n2. 6800\n3. 7035\n\n\n",
            "text/latex": "\\begin{enumerate*}\n\\item 6555\n\\item 6800\n\\item 7035\n\\end{enumerate*}\n",
            "text/plain": [
              "[1] 6555 6800 7035"
            ]
          },
          "metadata": {}
        }
      ]
    },
    {
      "cell_type": "markdown",
      "source": [
        "b. What are all of the elements of d which are less than 2000?"
      ],
      "metadata": {
        "id": "Mln9GLUhD-zT"
      }
    },
    {
      "cell_type": "code",
      "source": [
        "# Finding elements less than 2000\n",
        "elements_less_than_2000 <- d[d < 2000]\n",
        "\n",
        "# Printing the result\n",
        "elements_less_than_2000\n"
      ],
      "metadata": {
        "colab": {
          "base_uri": "https://localhost:8080/",
          "height": 34
        },
        "id": "hwNn5Ak-EChV",
        "outputId": "a9ca8123-acfc-41b2-de4a-553063fdac0f"
      },
      "execution_count": null,
      "outputs": [
        {
          "output_type": "display_data",
          "data": {
            "text/html": [
              "<style>\n",
              ".list-inline {list-style: none; margin:0; padding: 0}\n",
              ".list-inline>li {display: inline-block}\n",
              ".list-inline>li:not(:last-child)::after {content: \"\\00b7\"; padding: 0 .5ex}\n",
              "</style>\n",
              "<ol class=list-inline><li>435</li><li>860</li><li>1275</li><li>1680</li></ol>\n"
            ],
            "text/markdown": "1. 435\n2. 860\n3. 1275\n4. 1680\n\n\n",
            "text/latex": "\\begin{enumerate*}\n\\item 435\n\\item 860\n\\item 1275\n\\item 1680\n\\end{enumerate*}\n",
            "text/plain": [
              "[1]  435  860 1275 1680"
            ]
          },
          "metadata": {}
        }
      ]
    },
    {
      "cell_type": "markdown",
      "source": [
        "c. How many elements of d are greater than 6000?"
      ],
      "metadata": {
        "id": "ez0kSBPEEMxw"
      }
    },
    {
      "cell_type": "code",
      "source": [
        "# Count elements that are greater than 6000 in vector 'd'\n",
        "count_greater_than_6000 <- length(d[d > 6000])\n",
        "\n",
        "# Printing the result\n",
        "count_greater_than_6000\n"
      ],
      "metadata": {
        "colab": {
          "base_uri": "https://localhost:8080/",
          "height": 34
        },
        "id": "mj8XkyorEUsA",
        "outputId": "61d2f12a-ba01-4fe5-a183-e2a1f834c36f"
      },
      "execution_count": null,
      "outputs": [
        {
          "output_type": "display_data",
          "data": {
            "text/html": [
              "16"
            ],
            "text/markdown": "16",
            "text/latex": "16",
            "text/plain": [
              "[1] 16"
            ]
          },
          "metadata": {}
        }
      ]
    },
    {
      "cell_type": "markdown",
      "source": [
        "#Problem 3: Using d from problem 2, use R to compute the following statistics of d:"
      ],
      "metadata": {
        "id": "2TVFauSrEfKG"
      }
    },
    {
      "cell_type": "markdown",
      "source": [
        "a. Sum"
      ],
      "metadata": {
        "id": "draUZbS4EjKd"
      }
    },
    {
      "cell_type": "code",
      "source": [
        "# Compute the sum of vector 'd'\n",
        "sum_of_d <- sum(d)\n",
        "\n",
        "# Printing the result\n",
        "sum_of_d\n"
      ],
      "metadata": {
        "colab": {
          "base_uri": "https://localhost:8080/",
          "height": 34
        },
        "id": "Fdf9G3DqEpqV",
        "outputId": "57bd6f87-27c7-429b-9834-f0be3d2532e7"
      },
      "execution_count": null,
      "outputs": [
        {
          "output_type": "display_data",
          "data": {
            "text/html": [
              "175120"
            ],
            "text/markdown": "175120",
            "text/latex": "175120",
            "text/plain": [
              "[1] 175120"
            ]
          },
          "metadata": {}
        }
      ]
    },
    {
      "cell_type": "markdown",
      "source": [
        "b. median"
      ],
      "metadata": {
        "id": "SbXM17USEutO"
      }
    },
    {
      "cell_type": "code",
      "source": [
        "# Compute the median of vector 'd'\n",
        "median_of_d <- median(d)\n",
        "\n",
        "# Printing the result\n",
        "median_of_d\n"
      ],
      "metadata": {
        "colab": {
          "base_uri": "https://localhost:8080/",
          "height": 34
        },
        "id": "T0i-BdwvEw4F",
        "outputId": "a30ed162-187d-4278-d546-21c38f7408bf"
      },
      "execution_count": null,
      "outputs": [
        {
          "output_type": "display_data",
          "data": {
            "text/html": [
              "5897.5"
            ],
            "text/markdown": "5897.5",
            "text/latex": "5897.5",
            "text/plain": [
              "[1] 5897.5"
            ]
          },
          "metadata": {}
        }
      ]
    },
    {
      "cell_type": "markdown",
      "source": [
        "c. Standard deviation"
      ],
      "metadata": {
        "id": "9H6b1lKPE3Ef"
      }
    },
    {
      "cell_type": "code",
      "source": [
        "# Compute the standard deviation of vector 'd'\n",
        "std_deviation_of_d <- sd(d)\n",
        "\n",
        "# Printing the result\n",
        "std_deviation_of_d\n"
      ],
      "metadata": {
        "colab": {
          "base_uri": "https://localhost:8080/",
          "height": 34
        },
        "id": "QOrWdbq9E5XU",
        "outputId": "ca2e62dc-3125-4fae-a2da-ead7e6a9261c"
      },
      "execution_count": null,
      "outputs": [
        {
          "output_type": "display_data",
          "data": {
            "text/html": [
              "2608.56282270525"
            ],
            "text/markdown": "2608.56282270525",
            "text/latex": "2608.56282270525",
            "text/plain": [
              "[1] 2608.563"
            ]
          },
          "metadata": {}
        }
      ]
    },
    {
      "cell_type": "markdown",
      "source": [
        "#Problem 4"
      ],
      "metadata": {
        "id": "rlhb9zXOFFRH"
      }
    },
    {
      "cell_type": "markdown",
      "source": [
        "Problem 4: Use R to create the following two matrices and do the indicated matrix multiplication.  What is the resulting matrix?"
      ],
      "metadata": {
        "id": "TigKZP9SFJez"
      }
    },
    {
      "cell_type": "code",
      "source": [
        "# first matrix (2x3)\n",
        "matrix1 <- matrix(c(7, 9, 12, 2, 4, 13), nrow = 2, byrow = TRUE)\n",
        "\n",
        "# second matrix (3x4)\n",
        "matrix2 <- matrix(c(1, 7, 12, 19, 2, 8, 13, 20, 3, 9, 14, 21), nrow = 3, byrow = TRUE)\n",
        "\n",
        "# matrix multiplication\n",
        "result_matrix <- matrix1 %*% matrix2\n",
        "\n",
        "# Printing the resulting matrix\n",
        "result_matrix\n"
      ],
      "metadata": {
        "colab": {
          "base_uri": "https://localhost:8080/",
          "height": 113
        },
        "id": "BbIhrJ_bFKss",
        "outputId": "4f322210-af3e-49fe-afc3-a7673c41d680"
      },
      "execution_count": null,
      "outputs": [
        {
          "output_type": "display_data",
          "data": {
            "text/html": [
              "<table class=\"dataframe\">\n",
              "<caption>A matrix: 2 × 4 of type dbl</caption>\n",
              "<tbody>\n",
              "\t<tr><td>61</td><td>229</td><td>369</td><td>565</td></tr>\n",
              "\t<tr><td>49</td><td>163</td><td>258</td><td>391</td></tr>\n",
              "</tbody>\n",
              "</table>\n"
            ],
            "text/markdown": "\nA matrix: 2 × 4 of type dbl\n\n| 61 | 229 | 369 | 565 |\n| 49 | 163 | 258 | 391 |\n\n",
            "text/latex": "A matrix: 2 × 4 of type dbl\n\\begin{tabular}{llll}\n\t 61 & 229 & 369 & 565\\\\\n\t 49 & 163 & 258 & 391\\\\\n\\end{tabular}\n",
            "text/plain": [
              "     [,1] [,2] [,3] [,4]\n",
              "[1,] 61   229  369  565 \n",
              "[2,] 49   163  258  391 "
            ]
          },
          "metadata": {}
        }
      ]
    }
  ]
}