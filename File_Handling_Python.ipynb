{
  "nbformat": 4,
  "nbformat_minor": 0,
  "metadata": {
    "colab": {
      "provenance": []
    },
    "kernelspec": {
      "name": "python3",
      "display_name": "Python 3"
    },
    "language_info": {
      "name": "python"
    }
  },
  "cells": [
    {
      "cell_type": "markdown",
      "source": [
        "##**Practice with File Handling**\n",
        "\n"
      ],
      "metadata": {
        "id": "36Ijg_cIHKMe"
      }
    },
    {
      "cell_type": "markdown",
      "source": [
        "Using the file email-password-recovery-code.csv, read in the file. Initalize an empty list. Append each line to the list as a list of lists. Be sure to first take a look at the file to determine what the delimiter is. Split each line by the delimiter."
      ],
      "metadata": {
        "id": "RNs2-q8XHVWa"
      }
    },
    {
      "cell_type": "markdown",
      "source": [
        "Create a for loop to loop through your create list of lists. Create a new list for each column in your data."
      ],
      "metadata": {
        "id": "-Cvg2O64U50a"
      }
    },
    {
      "cell_type": "code",
      "source": [
        "data = [    ['login email', 'identifier', 'one-time password', 'Recovery code', 'First name', 'Last name', 'Department', 'Location'],\n",
        "    ['rachel@example.com', 9012, '12se74', 'rb9012', 'Rachel', 'Booker', 'Sales', 'Manchester'],\n",
        "    ['laura@example.com', 2070, '04ap67', 'lg2070', 'Laura', 'Grey', 'Depot', 'London'],\n",
        "    ['craig@example.com', 4081, '30no86', 'cj4081', 'Craig', 'Johnson', 'Depot', 'London'],\n",
        "    ['mary@example.com', 9346, '14ju73', 'mj9346', 'Mary', 'Jenkins', 'Engineering', 'Manchester'],\n",
        "    ['jamie@example.com', 5079, '09ja61', 'js5079', 'Jamie', 'Smith', 'Engineering', 'Manchester']\n",
        "]\n",
        "\n",
        "# Create empty lists for each column\n",
        "login_email = []\n",
        "identifier = []\n",
        "one_time_password = []\n",
        "recovery_code = []\n",
        "first_name = []\n",
        "last_name = []\n",
        "department = []\n",
        "location = []\n",
        "\n",
        "# Loop through the data and append each value to its respective list\n",
        "for i in range(1, len(data)):\n",
        "    login_email.append(data[i][0])\n",
        "    identifier.append(data[i][1])\n",
        "    one_time_password.append(data[i][2])\n",
        "    recovery_code.append(data[i][3])\n",
        "    first_name.append(data[i][4])\n",
        "    last_name.append(data[i][5])\n",
        "    department.append(data[i][6])\n",
        "    location.append(data[i][7])\n",
        "\n",
        "# Print the contents of each list\n",
        "print(login_email)\n",
        "print(identifier)\n",
        "print(one_time_password)\n",
        "print(recovery_code)\n",
        "print(first_name)\n",
        "print(last_name)\n",
        "print(department)\n",
        "print(location)\n"
      ],
      "metadata": {
        "colab": {
          "base_uri": "https://localhost:8080/"
        },
        "id": "mvaW5iWOp3ZK",
        "outputId": "99b4bf28-fca4-4b49-8a8b-e6215e4f17c1"
      },
      "execution_count": null,
      "outputs": [
        {
          "output_type": "stream",
          "name": "stdout",
          "text": [
            "['rachel@example.com', 'laura@example.com', 'craig@example.com', 'mary@example.com', 'jamie@example.com']\n",
            "[9012, 2070, 4081, 9346, 5079]\n",
            "['12se74', '04ap67', '30no86', '14ju73', '09ja61']\n",
            "['rb9012', 'lg2070', 'cj4081', 'mj9346', 'js5079']\n",
            "['Rachel', 'Laura', 'Craig', 'Mary', 'Jamie']\n",
            "['Booker', 'Grey', 'Johnson', 'Jenkins', 'Smith']\n",
            "['Sales', 'Depot', 'Depot', 'Engineering', 'Engineering']\n",
            "['Manchester', 'London', 'London', 'Manchester', 'Manchester']\n"
          ]
        }
      ]
    },
    {
      "cell_type": "markdown",
      "source": [
        "##**Practice with generating modules**"
      ],
      "metadata": {
        "id": "DCRWFe8SU-k7"
      }
    },
    {
      "cell_type": "markdown",
      "source": [
        "Generate a module that has two functions. Call the module, first_modules.py.\n",
        "a. Calculate the standard deviation of a list of numbers. The list can be of any length. Call this function sigma. Test your result here using the sample standard deviation. https://www.calculatorsoup.com/calculators/statistics/standard-deviation-calculator.php. Hint: You may want to use an arbitrary argument.\n",
        "b. Using the result of the sigma function, calculate the mean - standard deviation for the same list of numbers. Call this funtion mu_min_sigma."
      ],
      "metadata": {
        "id": "nGLXFOTTVF-c"
      }
    },
    {
      "cell_type": "code",
      "source": [
        "from google.colab import drive\n",
        "drive.mount('/content/drive')"
      ],
      "metadata": {
        "colab": {
          "base_uri": "https://localhost:8080/"
        },
        "id": "tHkz6Ah3Y3rV",
        "outputId": "16f527d6-7f6c-4a6c-f1f6-56d29d7c4ec5"
      },
      "execution_count": null,
      "outputs": [
        {
          "output_type": "stream",
          "name": "stdout",
          "text": [
            "Mounted at /content/drive\n"
          ]
        }
      ]
    },
    {
      "cell_type": "code",
      "source": [
        "file_to_read = '/content/drive/MyDrive/Colab Notebooks/Copy of first_module.py'\n",
        "f = open(file_to_read)\n",
        "# \"first_module.py\" = /content/drive/MyDrive/Colab Notebooks/Copy of first_module.py"
      ],
      "metadata": {
        "id": "zivm7rab2WhJ"
      },
      "execution_count": null,
      "outputs": []
    },
    {
      "cell_type": "code",
      "source": [
        "! cat first_module.py"
      ],
      "metadata": {
        "colab": {
          "base_uri": "https://localhost:8080/"
        },
        "id": "G9KLN7xQ6Daa",
        "outputId": "ee1fd635-abe7-440e-c905-27abdcdaa004"
      },
      "execution_count": null,
      "outputs": [
        {
          "output_type": "stream",
          "name": "stdout",
          "text": [
            "def add_numbers(num1, num2):\n",
            "    \"\"\"\n",
            "    This function takes two numbers as input and returns their sum.\n",
            "    \"\"\"\n",
            "    return num1 + num2\n",
            "\n",
            "\n",
            "def multiply_numbers(num1, num2):\n",
            "    \"\"\"\n",
            "    This function takes two numbers as input and returns their product.\n",
            "    \"\"\"\n",
            "    return num1 * num2\n",
            "\n",
            "\n",
            "import math\n",
            "\n",
            "def sigma(*args):\n",
            "    n = len(args)\n",
            "    if n < 2:\n",
            "        return 0.0\n",
            "    \n",
            "    mean = sum(args) / n\n",
            "    variance = sum((x - mean) ** 2 for x in args) / (n - 1)\n",
            "    return math.sqrt(variance)\n",
            "\n",
            "def mu_min_sigma(*args):\n",
            "    return sum(args) / len(args) - sigma(*args)"
          ]
        }
      ]
    },
    {
      "cell_type": "code",
      "source": [
        "import first_module\n",
        "\n",
        "numbers = [69, 17, 1, 20, 90]\n",
        "\n",
        "std_dev = first_module.sigma(*numbers)\n",
        "print(\"Standard deviation:\", std_dev)\n",
        "\n",
        "mean_minus_std = first_module.mu_min_sigma(*numbers)\n",
        "print(\"Mean - standard deviation:\", mean_minus_std)\n"
      ],
      "metadata": {
        "colab": {
          "base_uri": "https://localhost:8080/"
        },
        "id": "CzxkcVW11dNZ",
        "outputId": "d5a5f00f-c255-4111-a84f-4fee74eb2bf9"
      },
      "execution_count": null,
      "outputs": [
        {
          "output_type": "stream",
          "name": "stdout",
          "text": [
            "Standard deviation: 38.043396273203584\n",
            "Mean - standard deviation: 1.3566037267964148\n"
          ]
        }
      ]
    },
    {
      "cell_type": "markdown",
      "source": [
        "##**Practice with the sys Module and Command line Arguments**"
      ],
      "metadata": {
        "id": "vOSpJx1Vfj4D"
      }
    },
    {
      "cell_type": "markdown",
      "source": [
        "1. Create a python function that accepts 3 integers as an command line argument and calculates the percentage of the sum of the three numbers for 50."
      ],
      "metadata": {
        "id": "FGDEjbJffuzh"
      }
    },
    {
      "cell_type": "code",
      "source": [
        "import sys\n",
        "\n",
        "def calculate_percentage(num1, num2, num3):\n",
        "    # Calculate the sum of the three numbers\n",
        "    total = num1 + num2 + num3\n",
        "\n",
        "    # Calculate the percentage of the sum for 50\n",
        "    percentage = (total / 50) * 100\n",
        "\n",
        "    return percentage\n",
        "\n",
        "# Check if there are exactly three command line arguments\n",
        "if len(sys.argv) == 4:\n",
        "    # Parse the command line arguments as integers\n",
        "    num1 = int(sys.argv[1])\n",
        "    num2 = int(sys.argv[2])\n",
        "    num3 = int(sys.argv[3])\n",
        "\n",
        "    # Call the calculate_percentage function and print the result\n",
        "    percentage = calculate_percentage(num1, num2, num3)\n",
        "    print(\"Percentage of the sum for 50:\", percentage)\n",
        "else:\n",
        "    print(\"Usage: python script.py 40 80 30\")\n"
      ],
      "metadata": {
        "colab": {
          "base_uri": "https://localhost:8080/"
        },
        "id": "fuSX7MnvjeW6",
        "outputId": "4233d283-a1d3-44d0-9a73-07c6bdc3ef7f"
      },
      "execution_count": null,
      "outputs": [
        {
          "output_type": "stream",
          "name": "stdout",
          "text": [
            "Usage: python script.py 40 80 30\n"
          ]
        }
      ]
    },
    {
      "cell_type": "code",
      "source": [
        "! python percentage.py 40 80 30\n"
      ],
      "metadata": {
        "colab": {
          "base_uri": "https://localhost:8080/"
        },
        "id": "u8YTxaujkHeR",
        "outputId": "cc8d833a-cffb-4998-e147-7fa074a61a34"
      },
      "execution_count": null,
      "outputs": [
        {
          "output_type": "stream",
          "name": "stdout",
          "text": [
            "300.0\n"
          ]
        }
      ]
    },
    {
      "cell_type": "markdown",
      "source": [
        "##**Practice with the math module**"
      ],
      "metadata": {
        "id": "-UqXU11Rht8n"
      }
    },
    {
      "cell_type": "markdown",
      "source": [
        "Given the pythagorean theorem, calculate the missing side of the two measurements below.\n",
        "a. a = 3, b = 5\n",
        "b. b = 1.4, c = 7.8\n",
        "c. a = pi, c = 4pi"
      ],
      "metadata": {
        "id": "5Nh-Irykh06x"
      }
    },
    {
      "cell_type": "code",
      "source": [
        "import math\n",
        "\n",
        "# Case a\n",
        "a = 3\n",
        "b = 5\n",
        "c = math.sqrt(a**2 + b**2)\n",
        "print(\"c =\", c)\n",
        "\n",
        "# Case b\n",
        "b = 1.4\n",
        "c = 7.8\n",
        "a = math.sqrt(c**2 - b**2)\n",
        "print(\"a =\", a)\n",
        "\n",
        "# Case c\n",
        "a = math.pi\n",
        "c = 4 * math.pi\n",
        "b = math.sqrt(c**2 - a**2)\n",
        "print(\"b =\", b)\n"
      ],
      "metadata": {
        "id": "0e4KyixQh1tN"
      },
      "execution_count": null,
      "outputs": []
    },
    {
      "cell_type": "markdown",
      "source": [
        "Using the math module and generate functions to calculate the values of the missing side.\n",
        "Identify the equation for the calculation of BMI. Create a function for this calculation that employs the math module. Calculate the BMI for the height and weight combinations below. https://www.whathealth.com/bmi/chart-metric.html\n",
        "a. 250 lbs, 5' 9\"\n",
        "b. 144 lbs, 5' 2\"\n",
        "c. 120 lbs, 6' 0\"\n",
        "Based on the what is considered to be a healthy BMI, have your function print \"Healthy BMI\" or \"Unhealthy BMI\"."
      ],
      "metadata": {
        "id": "i14c4wMJkenY"
      }
    },
    {
      "cell_type": "code",
      "source": [
        "import math\n",
        "\n",
        "# Case a\n",
        "a = 9\n",
        "b = 7\n",
        "c = math.sqrt(a**2 + b**2)\n",
        "print(\"c =\", c)\n",
        "\n",
        "# Case b\n",
        "b = 7.8\n",
        "c = 9.5\n",
        "a = math.sqrt(c**2 - b**2)\n",
        "print(\"a =\", a)\n",
        "\n",
        "# Case c\n",
        "a = math.pi\n",
        "c = 4 * math.pi\n",
        "b = math.sqrt(c**2 - a**2)\n",
        "print(\"b =\", b)\n"
      ],
      "metadata": {
        "id": "pAB7_FWMkfYh"
      },
      "execution_count": null,
      "outputs": []
    },
    {
      "cell_type": "code",
      "source": [
        "import math\n",
        "\n",
        "def calculate_bmi(weight, height):\n",
        "    # Convert height from feet and inches to meters\n",
        "    height_m = height / 3.281\n",
        "\n",
        "    # Calculate the BMI using the formula: weight / height^2\n",
        "    bmi = weight / (height_m ** 2)\n",
        "\n",
        "    # Print the BMI and whether it's healthy or unhealthy\n",
        "    print(\"BMI:\", bmi)\n",
        "    if bmi < 18.5:\n",
        "        print(\"Unhealthy BMI\")\n",
        "    elif bmi >= 18.5 and bmi < 25:\n",
        "        print(\"Healthy BMI\")\n",
        "    elif bmi >= 25 and bmi < 30:\n",
        "        print(\"Overweight\")\n",
        "    else:\n",
        "        print(\"Obese\")\n",
        "\n",
        "# Case a\n",
        "weight = 250\n",
        "height = 5 * 12 + 9  # Convert height to inches\n",
        "calculate_bmi(weight, height)\n",
        "\n",
        "# Case b\n",
        "weight = 144\n",
        "height = 5 * 12 + 2  # Convert height to inches\n",
        "calculate_bmi(weight, height)\n",
        "\n",
        "# Case c\n",
        "weight = 120\n",
        "height = 6 * 12 + 0  # Convert height to inches\n",
        "calculate_bmi(weight, height)\n"
      ],
      "metadata": {
        "id": "SkP06rxKk9L5"
      },
      "execution_count": null,
      "outputs": []
    },
    {
      "cell_type": "markdown",
      "source": [
        "Create a python function to convert lbs to kg and inches to cm. For a, b, and c above, convert each to kg and cm."
      ],
      "metadata": {
        "id": "CE6O8gpmlg0Q"
      }
    },
    {
      "cell_type": "code",
      "source": [
        "def lbs_to_kg(lbs):\n",
        "    kg = lbs * 0.45359237\n",
        "    return kg\n",
        "\n",
        "def inches_to_cm(inches):\n",
        "    cm = inches * 2.54\n",
        "    return cm\n",
        "# Convert 250lbs 5'9\" to kg and cm\n",
        "weight1_lbs = 250\n",
        "height1_inches = (5*12) + 9\n",
        "\n",
        "weight1_kg = lbs_to_kg(weight1_lbs)\n",
        "height1_cm = inches_to_cm(height1_inches)\n",
        "\n",
        "print(\"Weight: {} lbs = {} kg\".format(weight1_lbs, weight1_kg))\n",
        "print(\"Height: {}'{}\\\" = {} cm\".format(5, 9, height1_cm))\n",
        "print()\n",
        "\n",
        "# Convert 144lbs 5'2\" to kg and cm\n",
        "weight2_lbs = 144\n",
        "height2_inches = (5*12) + 2\n",
        "\n",
        "weight2_kg = lbs_to_kg(weight2_lbs)\n",
        "height2_cm = inches_to_cm(height2_inches)\n",
        "\n",
        "print(\"Weight: {} lbs = {} kg\".format(weight2_lbs, weight2_kg))\n",
        "print(\"Height: {}'{}\\\" = {} cm\".format(5, 2, height2_cm))\n",
        "print()\n",
        "\n",
        "# Convert 120lbs 6'0\" to kg and cm\n",
        "weight3_lbs = 120\n",
        "height3_inches = (6*12) + 0\n",
        "\n",
        "weight3_kg = lbs_to_kg(weight3_lbs)\n",
        "height3_cm = inches_to_cm(height3_inches)\n",
        "\n",
        "print(\"Weight: {} lbs = {} kg\".format(weight3_lbs, weight3_kg))\n",
        "print(\"Height: {}'{}\\\" = {} cm\".format(6, 0, height3_cm))\n"
      ],
      "metadata": {
        "id": "qiPetc7TpD1F"
      },
      "execution_count": null,
      "outputs": []
    }
  ]
}