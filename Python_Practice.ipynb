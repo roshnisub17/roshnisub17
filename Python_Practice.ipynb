{
  "nbformat": 4,
  "nbformat_minor": 0,
  "metadata": {
    "colab": {
      "provenance": []
    },
    "kernelspec": {
      "name": "python3",
      "display_name": "Python 3"
    },
    "language_info": {
      "name": "python"
    }
  },
  "cells": [
    {
      "cell_type": "markdown",
      "source": [
        "**Practice with Variables**\n"
      ],
      "metadata": {
        "id": "2rw5uY4Awlh5"
      }
    },
    {
      "cell_type": "markdown",
      "source": [
        "1. Create a variable named car and assing the value of the make and model of your favorite car. Separate the make and model name using an _."
      ],
      "metadata": {
        "id": "goIw-DInwuap"
      }
    },
    {
      "cell_type": "code",
      "source": [
        "car = \"Mitsubishi_Outlander\"\n"
      ],
      "metadata": {
        "id": "gKB4TaEqw0Hm"
      },
      "execution_count": null,
      "outputs": []
    },
    {
      "cell_type": "markdown",
      "source": [
        "2. Assign the model of the car to the variable x and the make to the variable y using multiple variable assignment instead of two lines of code."
      ],
      "metadata": {
        "id": "0-yYusZi14wO"
      }
    },
    {
      "cell_type": "code",
      "source": [
        "x, y = \"Mitsubishi\", \"Outlander\"\n"
      ],
      "metadata": {
        "id": "_KCzsyWH1-oR"
      },
      "execution_count": null,
      "outputs": []
    },
    {
      "cell_type": "markdown",
      "source": [
        "3. Print the sentence \"Dr. Jones favorite car is a land rover Range Rover SE.\". Of course, you will replace my name with yours and the make and model with the car of your choice."
      ],
      "metadata": {
        "id": "rs3nbcsq2N8o"
      }
    },
    {
      "cell_type": "code",
      "source": [
        "name = \"Roshni\"\n",
        "car_make = \"Mitsubishi\"\n",
        "car_model = \"Outlander\"\n",
        "\n",
        "sentence = f\"{name}'s favorite car is a {car_make} {car_model}.\"\n",
        "print(sentence)\n"
      ],
      "metadata": {
        "colab": {
          "base_uri": "https://localhost:8080/"
        },
        "id": "ZMkWoMnE2TsR",
        "outputId": "4f556e16-48f0-4c0f-acdd-50071c4ccf14"
      },
      "execution_count": null,
      "outputs": [
        {
          "output_type": "stream",
          "name": "stdout",
          "text": [
            "Roshni's favorite car is a Mitsubishi Outlander.\n"
          ]
        }
      ]
    },
    {
      "cell_type": "markdown",
      "source": [
        "**Practice with number conversions**"
      ],
      "metadata": {
        "id": "dV1eCXvc21Yd"
      }
    },
    {
      "cell_type": "markdown",
      "source": [
        "1. Create three variables; an integer, float, and complex."
      ],
      "metadata": {
        "id": "xyrOzBvf3ci3"
      }
    },
    {
      "cell_type": "code",
      "source": [
        "# Integer variable\n",
        "integer_var = 77\n",
        "\n",
        "# Float variable\n",
        "float_var = 1.17\n",
        "\n",
        "# Complex variable\n",
        "complex_var = 7 + 9j\n"
      ],
      "metadata": {
        "id": "cg8n8WM13QFC"
      },
      "execution_count": null,
      "outputs": []
    },
    {
      "cell_type": "markdown",
      "source": [
        "2.\n",
        "Do the following conversions:\n",
        "int -> float\n",
        "int -> complex -> float\n",
        "float -> int"
      ],
      "metadata": {
        "id": "bNlPq8bQ3ewv"
      }
    },
    {
      "cell_type": "markdown",
      "source": [
        "Convert int to float"
      ],
      "metadata": {
        "id": "DRlYO0j-4qKG"
      }
    },
    {
      "cell_type": "code",
      "source": [
        "\n",
        "\n",
        "integer_var = 77\n",
        "float_var = float (integer_var)\n"
      ],
      "metadata": {
        "id": "95SMvjGs3r_h"
      },
      "execution_count": null,
      "outputs": []
    },
    {
      "cell_type": "markdown",
      "source": [
        "convert integer to complex and then to float"
      ],
      "metadata": {
        "id": "Md3zL9Ke4ul2"
      }
    },
    {
      "cell_type": "code",
      "source": [
        "integer_var = 77\n",
        "complex_var = complex(integer_var)\n",
        "float_var = float(complex_var.real)"
      ],
      "metadata": {
        "id": "BlKoNo3v4xcE"
      },
      "execution_count": null,
      "outputs": []
    },
    {
      "cell_type": "markdown",
      "source": [
        "Convert float to integer"
      ],
      "metadata": {
        "id": "LgR9BOO_5UdI"
      }
    },
    {
      "cell_type": "code",
      "source": [
        "float_var = 1.17\n",
        "integer_var = int(float_var)"
      ],
      "metadata": {
        "id": "n7NoaRlp5aJ8"
      },
      "execution_count": null,
      "outputs": []
    },
    {
      "cell_type": "markdown",
      "source": [
        "**Practice Casting**"
      ],
      "metadata": {
        "id": "bgxCtqCz5yWj"
      }
    },
    {
      "cell_type": "markdown",
      "source": [
        "1. Create a float variable. Convert the variable to an integer."
      ],
      "metadata": {
        "id": "SOP5eMAa55od"
      }
    },
    {
      "cell_type": "code",
      "source": [
        "float_var = 1.17\n",
        "integer_var = int(float_var)"
      ],
      "metadata": {
        "id": "i4s6P5xM50hm"
      },
      "execution_count": null,
      "outputs": []
    },
    {
      "cell_type": "markdown",
      "source": [
        "2. Create a string whose content is a number. Convert to a float."
      ],
      "metadata": {
        "id": "5oMPpJDA7j2X"
      }
    },
    {
      "cell_type": "code",
      "source": [
        "number_string = \"1.17\"\n",
        "float_number = Float(number_string)"
      ],
      "metadata": {
        "id": "KSXBt48V7nbn"
      },
      "execution_count": null,
      "outputs": []
    },
    {
      "cell_type": "markdown",
      "source": [
        "**Practice Operators**"
      ],
      "metadata": {
        "id": "McEivQ3j9tPn"
      }
    },
    {
      "cell_type": "markdown",
      "source": [
        "1. Create two variables that are numerical and play around with the operators."
      ],
      "metadata": {
        "id": "qHccgZDk92n_"
      }
    },
    {
      "cell_type": "code",
      "source": [
        "x = 7\n",
        "y = 2\n",
        "\n",
        "#Addition:\n",
        "add_result = x + y\n",
        "print(\"Addition:\", add_result)\n",
        "\n",
        "#Subtraction:\n",
        "sub_result = x - y\n",
        "print(\"Subtraction:\", sub_result)\n",
        "\n",
        "#Division\n",
        "div_result = x / y\n",
        "print(\"Division:\", div_result)\n",
        "\n",
        "#Multiplication\n",
        "mul_result = x * y\n",
        "print(\"Multiplication:\", mul_result)\n",
        "\n",
        "#Modulus\n",
        "mod_result = x % y\n",
        "print(\"Modulus:\", mod_result)\n",
        "\n",
        "#Exponentiation\n",
        "exp_result = x ** y\n",
        "print(\"Exponentiation:\", exp_result)\n",
        "\n",
        "#Floor_Division\n",
        "int_div_result = x // y\n",
        "print(\"Floor_Division:\", int_div_result)\n"
      ],
      "metadata": {
        "id": "MCqHz2iI_774"
      },
      "execution_count": null,
      "outputs": []
    },
    {
      "cell_type": "code",
      "source": [
        "\n",
        "x = 7\n",
        "y = 2\n",
        "\n",
        "# Addition\n",
        "x += y  # Equivalent to x = x + y\n",
        "\n",
        "# Reset x to its original value\n",
        "x = 7\n",
        "print(\"After Addition:\", x)\n",
        "\n",
        "# Subtraction\n",
        "x -= y  # Equivalent to x = x - y\n",
        "\n",
        "# Reset x to its original value\n",
        "x = 7\n",
        "print(\"After Subtraction:\", x)\n",
        "\n",
        "# Multiplication\n",
        "x *= y  # Equivalent to x = x * y\n",
        "\n",
        "# Reset x to its original value\n",
        "x = 7\n",
        "print(\"After Multiplication:\", x)\n",
        "\n",
        "# Division\n",
        "x /= y  # Equivalent to x = x / y\n",
        "\n",
        "# Reset x to its original value\n",
        "x = 7\n",
        "print(\"After Division:\", x)\n",
        "\n",
        "# Integer Division\n",
        "x //= y  # Equivalent to x = x // y\n",
        "\n",
        "# Reset x to its original value\n",
        "x = 7\n",
        "print(\"After Integer Division:\", x)\n",
        "\n",
        "# Modulus\n",
        "x %= y  # Equivalent to x = x % y\n",
        "\n",
        "# Reset x to its original value\n",
        "x = 7\n",
        "print(\"After Modulus:\", x)\n",
        "\n",
        "# Exponentiation\n",
        "x **= y  # Equivalent to x = x ** y\n",
        "print(\"After Exponentiation:\", x)\n"
      ],
      "metadata": {
        "id": "zd_g17l5EakT"
      },
      "execution_count": null,
      "outputs": []
    },
    {
      "cell_type": "code",
      "source": [
        "\n",
        "x = 7\n",
        "y = 2\n",
        "\n",
        "# Comparison: Equal to\n",
        "equal_result = x == y\n",
        "print(\"Equal to:\", equal_result)\n",
        "\n",
        "# Comparison: Not equal to\n",
        "not_equal_result = x != y\n",
        "print(\"Not equal to:\", not_equal_result)\n",
        "\n",
        "# Comparison: Greater than\n",
        "greater_than_result = x > y\n",
        "print(\"Greater than:\", greater_than_result)\n",
        "\n",
        "# Comparison: Less than\n",
        "less_than_result = x < y\n",
        "print(\"Less than:\", less_than_result)\n",
        "\n",
        "# Comparison: Greater than or equal to\n",
        "greater_equal_result = x >= y\n",
        "print(\"Greater than or equal to:\", greater_equal_result)\n",
        "\n",
        "# Comparison: Less than or equal to\n",
        "less_equal_result = x <= y\n",
        "print(\"Less than or equal to:\", less_equal_result)\n"
      ],
      "metadata": {
        "id": "zFOgsqOMHIf7"
      },
      "execution_count": null,
      "outputs": []
    },
    {
      "cell_type": "code",
      "source": [
        "\n",
        "x = 7\n",
        "y = 2\n",
        "\n",
        "# Logical AND\n",
        "and_result = x > 0 and y < 5\n",
        "print(\"Logical AND:\", and_result)\n",
        "\n",
        "# Logical OR\n",
        "or_result = x > 0 or y > 10\n",
        "print(\"Logical OR:\", or_result)\n",
        "\n",
        "# Logical NOT\n",
        "not_result_x = not (x > 0)\n",
        "print(\"Logical NOT for x:\", not_result_x)\n",
        "\n",
        "not_result_y = not (y > 0)\n",
        "print(\"Logical NOT for y:\", not_result_y)\n"
      ],
      "metadata": {
        "id": "hiKPdT11HbbT"
      },
      "execution_count": null,
      "outputs": []
    },
    {
      "cell_type": "code",
      "source": [
        "\n",
        "x = 7\n",
        "y = 2\n",
        "\n",
        "# Identity: is\n",
        "is_result = x is y\n",
        "print(\"Identity (is):\", is_result)\n",
        "\n",
        "# Identity: is not\n",
        "is_not_result = x is not y\n",
        "print(\"Identity (is not):\", is_not_result)\n"
      ],
      "metadata": {
        "id": "jbk-3voWHvBb"
      },
      "execution_count": null,
      "outputs": []
    },
    {
      "cell_type": "code",
      "source": [
        "# Creating a list and a set\n",
        "my_list = [1, 2, 3, 4, 5]\n",
        "my_set = {3, 4, 5, 6, 7}\n",
        "\n",
        "# Membership: in\n",
        "in_list_result = 3 in my_list\n",
        "print(\"Membership (in) in list:\", in_list_result)\n",
        "\n",
        "in_set_result = 3 in my_set\n",
        "print(\"Membership (in) in set:\", in_set_result)\n",
        "\n",
        "# Membership: not in\n",
        "not_in_list_result = 6 not in my_list\n",
        "print(\"Membership (not in) in list:\", not_in_list_result)\n",
        "\n",
        "not_in_set_result = 6 not in my_set\n",
        "print(\"Membership (not in) in set:\", not_in_set_result)\n"
      ],
      "metadata": {
        "id": "VZCNLHYzH5D8"
      },
      "execution_count": null,
      "outputs": []
    },
    {
      "cell_type": "markdown",
      "source": [
        "2. Create two variables that are strings and play around with the operators."
      ],
      "metadata": {
        "id": "7fGSFruDIKpx"
      }
    },
    {
      "cell_type": "code",
      "source": [
        "\n",
        "str1 = \"Mauritius\"\n",
        "str2 = \"Shopping\"\n",
        "\n",
        "# Concatenation\n",
        "concatenation_result = str1 + \" \" + str2\n",
        "print(\"Concatenation:\", concatenation_result)\n",
        "\n",
        "# Repetition\n",
        "repetition_result = str1 * 3\n",
        "print(\"Repetition:\", repetition_result)\n",
        "\n",
        "# Membership: in\n",
        "membership_result = \"u\" in str1\n",
        "print(\"Membership (in):\", membership_result)\n",
        "\n",
        "# Membership: not in\n",
        "not_membership_result = \"z\" not in str2\n",
        "print(\"Membership (not in):\", not_membership_result)\n"
      ],
      "metadata": {
        "id": "i2GD9LV7I7Kl"
      },
      "execution_count": null,
      "outputs": []
    },
    {
      "cell_type": "markdown",
      "source": [
        "**Practice with Lists**"
      ],
      "metadata": {
        "id": "KXUasYL9Je5p"
      }
    },
    {
      "cell_type": "markdown",
      "source": [
        "1. Create the lists below and assign them to a variable.\n"
      ],
      "metadata": {
        "id": "R0ZGHC0aJq6Z"
      }
    },
    {
      "cell_type": "markdown",
      "source": [
        "List with strings only.\n"
      ],
      "metadata": {
        "id": "0BSjxJ-xJ1bl"
      }
    },
    {
      "cell_type": "code",
      "source": [
        "# Creating a list of strings\n",
        "string_list = [\"Mauritius\", \"Beach\", \"Island\", \"Shopping\", \"Food\", \"Sun\", \"Sand\", \"Sea\"]\n",
        "\n",
        "# Printing the list\n",
        "print(string_list)\n"
      ],
      "metadata": {
        "id": "CWq3BD7UJxRX"
      },
      "execution_count": null,
      "outputs": []
    },
    {
      "cell_type": "markdown",
      "source": [
        "Print the length of each list using the len() function."
      ],
      "metadata": {
        "id": "8kYYwKVsLUkc"
      }
    },
    {
      "cell_type": "code",
      "source": [
        "string_list = [\"Mauritius\", \"Beach\", \"Island\", \"Shopping\", \"Food\", \"Sun\", \"Sand\", \"Sea\"]\n",
        "string_list_length = len(string_list)\n",
        "print(\"Length of string_list:\", string_list_length)\n"
      ],
      "metadata": {
        "id": "GeEcRisFLVxx"
      },
      "execution_count": null,
      "outputs": []
    },
    {
      "cell_type": "markdown",
      "source": [
        "Get the index of a specific item in the list."
      ],
      "metadata": {
        "id": "2O3g8hpkLxvE"
      }
    },
    {
      "cell_type": "code",
      "source": [
        "string_list = [\"Mauritius\", \"Beach\", \"Island\", \"Shopping\", \"Food\", \"Sun\", \"Sand\", \"Sea\"]\n",
        "item_to_find = \"Shopping\"\n",
        "index_of_item = string_list.index(item_to_find)\n",
        "print(f\"The index of '{item_to_find}' in string_list is:\", index_of_item)\n"
      ],
      "metadata": {
        "id": "pJF9JnwBLynC"
      },
      "execution_count": null,
      "outputs": []
    },
    {
      "cell_type": "markdown",
      "source": [
        "Print the item at index 2."
      ],
      "metadata": {
        "id": "IjPZw4v-MO87"
      }
    },
    {
      "cell_type": "code",
      "source": [
        "string_list = [\"Mauritius\", \"Beach\", \"Island\", \"Shopping\", \"Food\", \"Sun\", \"Sand\", \"Sea\"]\n",
        "item_at_index = string_list[2]\n",
        "print(\"Item at index 2 in string_list:\", item_at_index)\n"
      ],
      "metadata": {
        "id": "7WUudoLHMPx7"
      },
      "execution_count": null,
      "outputs": []
    },
    {
      "cell_type": "markdown",
      "source": [
        "List with numerical values only."
      ],
      "metadata": {
        "id": "L0ZXKbDwKaVo"
      }
    },
    {
      "cell_type": "code",
      "source": [
        "# Creating a list of numerical values\n",
        "number_list = [1, 7, 99, 69, 17, 284]\n",
        "\n",
        "# Printing the list\n",
        "print(number_list)\n"
      ],
      "metadata": {
        "id": "cSJ62eGOKb3M"
      },
      "execution_count": null,
      "outputs": []
    },
    {
      "cell_type": "markdown",
      "source": [
        "Print the length of each list using the len() function."
      ],
      "metadata": {
        "id": "EmGRk4VsLfZL"
      }
    },
    {
      "cell_type": "code",
      "source": [
        "number_list = [1, 7, 99, 69, 17, 284]\n",
        "number_list_length = len(number_list)\n",
        "print(\"Length of number_list:\", number_list_length)\n"
      ],
      "metadata": {
        "id": "SWnW1_6gLgj4"
      },
      "execution_count": null,
      "outputs": []
    },
    {
      "cell_type": "markdown",
      "source": [
        "Get the index of a specific item in the list."
      ],
      "metadata": {
        "id": "XDoovD2KL6I5"
      }
    },
    {
      "cell_type": "code",
      "source": [
        "number_list = [1, 7, 99, 69, 17, 284]\n",
        "item_to_find = 17\n",
        "index_of_item = number_list.index(item_to_find)\n",
        "print(f\"The index of {item_to_find} in number_list is:\", index_of_item)\n"
      ],
      "metadata": {
        "id": "FmofFjbZL64h"
      },
      "execution_count": null,
      "outputs": []
    },
    {
      "cell_type": "markdown",
      "source": [
        "Print the item at index 2."
      ],
      "metadata": {
        "id": "lNFNXiAlMKpC"
      }
    },
    {
      "cell_type": "code",
      "source": [
        "number_list = [1, 7, 99, 69, 17, 284]\n",
        "item_at_index = number_list[2]\n",
        "print(\"Item at index 2 in number_list:\", item_at_index)\n"
      ],
      "metadata": {
        "id": "b_DMha74MLZG"
      },
      "execution_count": null,
      "outputs": []
    },
    {
      "cell_type": "markdown",
      "source": [
        "2. Create a grocery list."
      ],
      "metadata": {
        "id": "vDO0BIm4M2tZ"
      }
    },
    {
      "cell_type": "code",
      "source": [
        "# Creating a grocery list\n",
        "grocery_list = [\"Soap\", \"Toothbrush\", \"Strawberry\", \"Milk\", \"Shampoo\", \"Shrimp\"]\n",
        "\n",
        "# Printing the grocery list\n",
        "print(\"Grocery List:\")\n",
        "for item in grocery_list:\n",
        "    print(item)\n"
      ],
      "metadata": {
        "id": "ILnKYQGgM5NP"
      },
      "execution_count": null,
      "outputs": []
    },
    {
      "cell_type": "markdown",
      "source": [
        "Scratch an item off of your grocery list and replace it with something else."
      ],
      "metadata": {
        "id": "P-C-kwQ7NKyZ"
      }
    },
    {
      "cell_type": "code",
      "source": [
        "\n",
        "grocery_list = [\"Soap\", \"Toothbrush\", \"Strawberry\", \"Milk\", \"Shampoo\", \"Shrimp\"]\n",
        "\n",
        "# Removing an item from the list\n",
        "removed_item = \"Soap\"\n",
        "grocery_list.remove(removed_item)\n",
        "\n",
        "# Adding a new item to the list\n",
        "new_item = \"Noodles\"\n",
        "grocery_list.append(new_item)\n",
        "\n",
        "# Printing the updated grocery list\n",
        "print(\"Updated Grocery List:\")\n",
        "for item in grocery_list:\n",
        "    print(item)\n"
      ],
      "metadata": {
        "id": "mJM-dPwwNLgt"
      },
      "execution_count": null,
      "outputs": []
    },
    {
      "cell_type": "markdown",
      "source": [
        "Challenge: You realized that an item is on your list that should not be there. Remove it."
      ],
      "metadata": {
        "id": "lEknpZdhNgAY"
      }
    },
    {
      "cell_type": "code",
      "source": [
        "\n",
        "grocery_list = [\"Toothbrush\", \"Strawberry\", \"Milk\", \"Shampoo\", \"Shrimp\", \"Noodles\"]\n",
        "\n",
        "# Removing the unwanted item\n",
        "unwanted_item = \"Shampoo\"\n",
        "grocery_list.remove(unwanted_item)\n",
        "\n",
        "# Printing the updated grocery list\n",
        "print(\"Updated Grocery List:\")\n",
        "for item in grocery_list:\n",
        "    print(item)\n"
      ],
      "metadata": {
        "id": "HV5k9DkoNg-E"
      },
      "execution_count": null,
      "outputs": []
    },
    {
      "cell_type": "markdown",
      "source": [
        "3. Challenge: Create two lists of your choice. Combine the lists."
      ],
      "metadata": {
        "id": "76Dn-K9RN9SP"
      }
    },
    {
      "cell_type": "code",
      "source": [
        "# Creating two lists\n",
        "listA = [\"flowers\", \"garden\", \"green\", \"butterfly\", \"lake\"]\n",
        "listB = [\"apple\", \"coffee\", \"milk\", \"shoes\", \"Miami\"]\n",
        "\n",
        "# Combining the lists\n",
        "combined_list = listA + listB\n",
        "\n",
        "# Printing the combined list\n",
        "print(\"Combined List:\", combined_list)\n"
      ],
      "metadata": {
        "id": "bI9SYb0ZN-ac"
      },
      "execution_count": null,
      "outputs": []
    },
    {
      "cell_type": "markdown",
      "source": [
        "**Part 2**"
      ],
      "metadata": {
        "id": "piXsVY6uStWR"
      }
    },
    {
      "cell_type": "markdown",
      "source": [
        "**Practice with tuples**"
      ],
      "metadata": {
        "id": "6LMWEufCRG78"
      }
    },
    {
      "cell_type": "markdown",
      "source": [
        "1. Create a tuple with at least 10 items."
      ],
      "metadata": {
        "id": "vNd7PSspRI2a"
      }
    },
    {
      "cell_type": "code",
      "source": [
        "# Creating a tuple with 10 items\n",
        "my_tuple = (\"Miami\", \"Houston\", \"Dallas\", \"NYC\", \"LA\", \"Kansas\", \"Gucci\", \"Louis\", \"17\", \"Phoenix\")\n",
        "\n",
        "# Printing the tuple\n",
        "print(my_tuple)\n"
      ],
      "metadata": {
        "id": "fxlTiWknRMoy"
      },
      "execution_count": null,
      "outputs": []
    },
    {
      "cell_type": "markdown",
      "source": [
        "2. Write a Python program to convert the tuple to a list."
      ],
      "metadata": {
        "id": "FdLKbfksRz_u"
      }
    },
    {
      "cell_type": "code",
      "source": [
        "\n",
        "my_tuple = (\"Miami\", \"Houston\", \"Dallas\", \"NYC\", \"LA\", \"Kansas\", \"Gucci\", \"Louis\", \"17\", \"Phoenix\")\n",
        "\n",
        "# Converting the tuple to a list\n",
        "my_list = list(my_tuple)\n",
        "\n",
        "# Printing the converted list\n",
        "print(\"Converted List:\", my_list)\n"
      ],
      "metadata": {
        "id": "THw-n2AdR7sq"
      },
      "execution_count": null,
      "outputs": []
    },
    {
      "cell_type": "markdown",
      "source": [
        "3. Write a Python program to get the 4th element from the last element of the tuple."
      ],
      "metadata": {
        "id": "XfwISrjDSNds"
      }
    },
    {
      "cell_type": "code",
      "source": [
        "\n",
        "my_tuple = (\"Miami\", \"Houston\", \"Dallas\", \"NYC\", \"LA\", \"Kansas\", \"Gucci\", \"Louis\", \"17\", \"Phoenix\")\n",
        "\n",
        "# Getting the 4th element from the end\n",
        "fourth_from_end = my_tuple[-4]\n",
        "\n",
        "# Printing the result\n",
        "print(\"4th element from the end:\", fourth_from_end)\n"
      ],
      "metadata": {
        "id": "R_QTLV59SQwW"
      },
      "execution_count": null,
      "outputs": []
    },
    {
      "cell_type": "markdown",
      "source": [
        "4. Write a Python program to check whether an element exists within the tuple."
      ],
      "metadata": {
        "id": "9xHiJk-DS0RN"
      }
    },
    {
      "cell_type": "code",
      "source": [
        "\n",
        "my_tuple = (\"Miami\", \"Houston\", \"Dallas\", \"NYC\", \"LA\", \"Kansas\", \"Gucci\", \"Louis\", \"17\", \"Phoenix\")\n",
        "\n",
        "# Element to check\n",
        "element_to_check = \"Gucci\"\n",
        "\n",
        "# Checking if the element exists in the tuple\n",
        "if element_to_check in my_tuple:\n",
        "    print(f\"'{element_to_check}' exists in the tuple.\")\n",
        "else:\n",
        "    print(f\"'{element_to_check}' does not exist in the tuple.\")\n"
      ],
      "metadata": {
        "colab": {
          "base_uri": "https://localhost:8080/"
        },
        "id": "c7T3xgpFS4mq",
        "outputId": "07663b4d-a6c0-40b5-9ad8-e8edda2d4b79"
      },
      "execution_count": null,
      "outputs": [
        {
          "output_type": "stream",
          "name": "stdout",
          "text": [
            "'Gucci' exists in the tuple.\n"
          ]
        }
      ]
    },
    {
      "cell_type": "markdown",
      "source": [
        "5. Write a Python program to find the length of a tuple"
      ],
      "metadata": {
        "id": "mmYrV02bTOkl"
      }
    },
    {
      "cell_type": "code",
      "source": [
        "\n",
        "my_tuple = (\"Miami\", \"Houston\", \"Dallas\", \"NYC\", \"LA\", \"Kansas\", \"Gucci\", \"Louis\", \"17\", \"Phoenix\")\n",
        "\n",
        "# Finding the length of the tuple\n",
        "tuple_length = len(my_tuple)\n",
        "\n",
        "# Printing the length of the tuple\n",
        "print(\"Length of the tuple:\", tuple_length)\n"
      ],
      "metadata": {
        "id": "Q-TPtRy1TR8E"
      },
      "execution_count": null,
      "outputs": []
    },
    {
      "cell_type": "markdown",
      "source": [
        "6. Challenge: Write a Python program to reverse a tuple."
      ],
      "metadata": {
        "id": "AliQeo35Te96"
      }
    },
    {
      "cell_type": "code",
      "source": [
        "\n",
        "my_tuple = (\"Miami\", \"Houston\", \"Dallas\", \"NYC\", \"LA\", \"Kansas\", \"Gucci\", \"Louis\", \"17\", \"Phoenix\")\n",
        "\n",
        "# Reversing the tuple\n",
        "reversed_tuple = my_tuple[::-1]\n",
        "\n",
        "# Printing the reversed tuple\n",
        "print(\"Reversed Tuple:\", reversed_tuple)\n"
      ],
      "metadata": {
        "id": "piojz_b0Tn5C"
      },
      "execution_count": null,
      "outputs": []
    },
    {
      "cell_type": "markdown",
      "source": [
        "7. Challenge: Write a Python program to convert a given string list to a tuple. Use your name as the original string."
      ],
      "metadata": {
        "id": "SJztfHKaTx1O"
      }
    },
    {
      "cell_type": "code",
      "source": [
        "# string list\n",
        "string_list = [\"R\", \"o\", \"s\", \"h\", \"n\", \"i\"]\n",
        "\n",
        "# Converting the list to a tuple\n",
        "tuple_from_list = tuple(string_list)\n",
        "\n",
        "# Printing the converted tuple\n",
        "print(\"Converted Tuple:\", tuple_from_list)\n"
      ],
      "metadata": {
        "id": "9ckdbjjKT4bE"
      },
      "execution_count": null,
      "outputs": []
    },
    {
      "cell_type": "markdown",
      "source": [
        "**Practice with Sets**"
      ],
      "metadata": {
        "id": "XPFdZP8_UVqv"
      }
    },
    {
      "cell_type": "markdown",
      "source": [
        "1. Generate two sets of different lengths."
      ],
      "metadata": {
        "id": "a7JzSwjoUixV"
      }
    },
    {
      "cell_type": "code",
      "source": [
        "# Two sets of different lengths\n",
        "set1 = {7, 89, 1, 45, 17, 90}\n",
        "set2 = {20, 69, 17}\n",
        "\n",
        "# Printing the sets\n",
        "print(\"Set 1:\", set1)\n",
        "print(\"Set 2:\", set2)\n"
      ],
      "metadata": {
        "id": "iNSXeib_Umj2"
      },
      "execution_count": null,
      "outputs": []
    },
    {
      "cell_type": "markdown",
      "source": [
        "2. Write a Python program to get the length of each."
      ],
      "metadata": {
        "id": "76vWwxgeU9G1"
      }
    },
    {
      "cell_type": "code",
      "source": [
        "\n",
        "set1 = {7, 89, 1, 45, 17, 90}\n",
        "set2 = {20, 69, 17}\n",
        "\n",
        "# Calculating and printing the length of each set\n",
        "print(\"Length of Set 1:\", len(set1))\n",
        "print(\"Length of Set 2:\", len(set2))\n"
      ],
      "metadata": {
        "id": "9V-3612OVALi"
      },
      "execution_count": null,
      "outputs": []
    },
    {
      "cell_type": "markdown",
      "source": [
        "3. Write a Python program to add 2 items to each set."
      ],
      "metadata": {
        "id": "z43LkcZMVkL8"
      }
    },
    {
      "cell_type": "code",
      "source": [
        "\n",
        "set1 = {7, 89, 1, 45, 17, 90}\n",
        "set2 = {20, 69, 17}\n",
        "\n",
        "# Adding items to each set\n",
        "set1.add(88)\n",
        "set1.add(55)\n",
        "\n",
        "set2.add(94)\n",
        "set2.add(43)\n",
        "\n",
        "# Printing the updated sets\n",
        "print(\"Updated Set 1:\", set1)\n",
        "print(\"Updated Set 2:\", set2)\n"
      ],
      "metadata": {
        "id": "mtdiHoNvVqWM"
      },
      "execution_count": null,
      "outputs": []
    },
    {
      "cell_type": "markdown",
      "source": [
        "4. Write a Python program to combine each set."
      ],
      "metadata": {
        "id": "As2sV54iWOPq"
      }
    },
    {
      "cell_type": "code",
      "source": [
        "\n",
        "set1 = {7, 89, 1, 45, 17, 90}\n",
        "set2 = {20, 69, 17}\n",
        "\n",
        "# Combining the sets\n",
        "combined_set = set1.union(set2)\n",
        "\n",
        "# Printing the combined set\n",
        "print(\"Combined Set:\", combined_set)\n"
      ],
      "metadata": {
        "id": "2ufC0v6dWZmI"
      },
      "execution_count": null,
      "outputs": []
    },
    {
      "cell_type": "markdown",
      "source": [
        "5. Write a Python program to remove item(s) from one set."
      ],
      "metadata": {
        "id": "VfOEFioeWdV-"
      }
    },
    {
      "cell_type": "code",
      "source": [
        "\n",
        "set1 = {7, 89, 1, 45, 17, 90}\n",
        "\n",
        "# Removing an item\n",
        "item_to_remove = 17\n",
        "set1.remove(item_to_remove)\n",
        "\n",
        "# Printing the set after removal\n",
        "print(\"Set 1 after removing\", item_to_remove, \":\", set1)\n"
      ],
      "metadata": {
        "id": "Pg39-WxPWhMu"
      },
      "execution_count": null,
      "outputs": []
    },
    {
      "cell_type": "markdown",
      "source": [
        "6. Challenge:: Create a string variable with a word that has duplicate letters. For example, \"stress\" ( has three s's). Convert the string to a set. What python function would you run to determine how many unique letters are in your selected string?"
      ],
      "metadata": {
        "id": "EcHSjQdpW9Bf"
      }
    },
    {
      "cell_type": "code",
      "source": [
        "\n",
        "word = \"sausages\"\n",
        "\n",
        "# Converting the string to a set\n",
        "unique_letters_set = set(word)\n",
        "\n",
        "# Using the len() function to determine the number of unique letters\n",
        "num_unique_letters = len(unique_letters_set)\n",
        "\n",
        "# Printing the number of unique letters\n",
        "print(\"Number of unique letters in the word:\", num_unique_letters)\n"
      ],
      "metadata": {
        "id": "ehhURXG0W-is"
      },
      "execution_count": null,
      "outputs": []
    },
    {
      "cell_type": "markdown",
      "source": [
        "7. Challenge: Create a set of varying numerical data types. Write a Python program to find the minimum and maximum of the set."
      ],
      "metadata": {
        "id": "3Pt2L3UXXojb"
      }
    },
    {
      "cell_type": "code",
      "source": [
        "# Creating a set with varying numerical data types\n",
        "num_set = {17, -98, 700, 1.17, -6.69, 9.435}\n",
        "\n",
        "# Finding the minimum and maximum values\n",
        "min_value = min(num_set)\n",
        "max_value = max(num_set)\n",
        "\n",
        "# Printing the minimum and maximum values\n",
        "print(\"Minimum value:\", min_value)\n",
        "print(\"Maximum value:\", max_value)\n"
      ],
      "metadata": {
        "id": "J8fg-Fk4Xu4N"
      },
      "execution_count": null,
      "outputs": []
    },
    {
      "cell_type": "markdown",
      "source": [
        "**Practice with for loops**"
      ],
      "metadata": {
        "id": "AxcMYq3cYWwf"
      }
    },
    {
      "cell_type": "markdown",
      "source": [
        "1. Write a python for loop to print out each integer between 10 and 25. Hint: Use the range function."
      ],
      "metadata": {
        "id": "QwtWCph1YZUF"
      }
    },
    {
      "cell_type": "code",
      "source": [
        "# Using loop to print integers between 10 and 25\n",
        "for num in range(10, 26):\n",
        "    print(num)\n"
      ],
      "metadata": {
        "id": "tvt9yGVjYc-Y"
      },
      "execution_count": null,
      "outputs": []
    },
    {
      "cell_type": "markdown",
      "source": [
        "2. Write a program to display the first 6 multiples of 12."
      ],
      "metadata": {
        "id": "iO_YvkwVYn7k"
      }
    },
    {
      "cell_type": "code",
      "source": [
        "# 6 multiples of 12\n",
        "for i in range(1, 7):\n",
        "    multiple = 12 * i\n",
        "    print(f\"Multiple {i}: {multiple}\")\n"
      ],
      "metadata": {
        "id": "61Xzm1D7YrLl"
      },
      "execution_count": null,
      "outputs": []
    },
    {
      "cell_type": "markdown",
      "source": [
        "3. Write a program that appends the square of each number to a new list. Begin with x = [2, 4, 5.6, 8, 10.2, 12, 21]."
      ],
      "metadata": {
        "id": "TnIO46ItY-SO"
      }
    },
    {
      "cell_type": "code",
      "source": [
        "\n",
        "x = [2, 4, 5.6, 8, 10.2, 12, 21]\n",
        "\n",
        "# empty list\n",
        "squared_list = []\n",
        "\n",
        "# Calculating and appending the square of each number to the list\n",
        "for num in x:\n",
        "    squared = num ** 2\n",
        "    squared_list.append(squared)\n",
        "\n",
        "# Printing the squared list\n",
        "print(\"Squared List:\", squared_list)\n"
      ],
      "metadata": {
        "id": "4GIpr3weZHFC"
      },
      "execution_count": null,
      "outputs": []
    },
    {
      "cell_type": "markdown",
      "source": [
        "4. Create a list with multiple data types. Write a program that appends the type of elements from the list."
      ],
      "metadata": {
        "id": "76E7LGbtZYJS"
      }
    },
    {
      "cell_type": "code",
      "source": [
        "# list of multiple data types\n",
        "mixed_list = [\"mom\", 8.99, True, {\"name\": \"Rosh\", \"age\": 22}, [90, 8, 0], 17]\n",
        "\n",
        "# Initializing an empty list for element types\n",
        "element_types = []\n",
        "\n",
        "# Appending the type of each element to the list\n",
        "for element in mixed_list:\n",
        "    element_type = type(element)\n",
        "    element_types.append(element_type)\n",
        "\n",
        "# Printing the list of element types\n",
        "print(\"Element Types:\", element_types)\n"
      ],
      "metadata": {
        "id": "jEJv1EK1arq7"
      },
      "execution_count": null,
      "outputs": []
    },
    {
      "cell_type": "markdown",
      "source": [
        "5. Write a program that generates mutiples of 13 but stops when the multiple is above 200. Hint: Use a break statement."
      ],
      "metadata": {
        "id": "Qj6hGlLXbFF-"
      }
    },
    {
      "cell_type": "code",
      "source": [
        "# multiples of 13 until the multiple is above 200\n",
        "multiple = 13\n",
        "while True:\n",
        "    print(\"Multiple:\", multiple)\n",
        "    if multiple > 200:\n",
        "        break\n",
        "    multiple += 13\n"
      ],
      "metadata": {
        "id": "QXj8xA3SbJFx"
      },
      "execution_count": null,
      "outputs": []
    },
    {
      "cell_type": "markdown",
      "source": [
        "**Practice with dictionaries**"
      ],
      "metadata": {
        "id": "NeXwnENXbsMx"
      }
    },
    {
      "cell_type": "markdown",
      "source": [
        "1. Create a dictionary with at least 6 identifying characteristics about you."
      ],
      "metadata": {
        "id": "C6jANR7IcQeh"
      }
    },
    {
      "cell_type": "code",
      "source": [
        "\n",
        "my_info = {\n",
        "    \"name\": \"Roshni\",\n",
        "    \"age\": 22,\n",
        "    \"eye_color\": \"brown\",\n",
        "    \"gender\": \"female\",\n",
        "    \"hobbies\": [\"shopping\", \"sleeping\"],\n",
        "    \"ethnicity\": \"unknown\"\n",
        "}\n",
        "\n",
        "# Printing the dictionary\n",
        "print(\"My Information:\", my_info)\n"
      ],
      "metadata": {
        "id": "YWFY-mkocNxh"
      },
      "execution_count": null,
      "outputs": []
    },
    {
      "cell_type": "markdown",
      "source": [
        "2. Once that dict is generated, add two more pieces of information."
      ],
      "metadata": {
        "id": "a0iJrnq5dC-k"
      }
    },
    {
      "cell_type": "code",
      "source": [
        "# Creating a dictionary with identifying characteristics\n",
        "my_info = {\n",
        "    \"name\": \"Roshni\",\n",
        "    \"age\": 22,\n",
        "    \"eye_color\": \"brown\",\n",
        "    \"gender\": \"female\",\n",
        "    \"hobbies\": [\"shopping\", \"sleeping\"],\n",
        "    \"ethnicity\": \"unknown\"\n",
        "}\n",
        "\n",
        "# Adding two more pieces of information\n",
        "my_info[\"Birthplace\"] = \"Mauritius\"\n",
        "my_info[\"Addiction\"] = \"Food\"\n",
        "\n",
        "# Printing the updated dictionary\n",
        "print(\"Updated My Information:\", my_info)\n"
      ],
      "metadata": {
        "id": "8v5u8FiZd0Eh"
      },
      "execution_count": null,
      "outputs": []
    },
    {
      "cell_type": "markdown",
      "source": [
        "3. Print a sentence describing yourself using the dictionary keys and concatenating them to strings."
      ],
      "metadata": {
        "id": "THYi-PmIeVrz"
      }
    },
    {
      "cell_type": "code",
      "source": [
        "\n",
        "my_info = {\n",
        "    \"name\": \"Roshni\",\n",
        "    \"age\": 22,\n",
        "    \"eye_color\": \"brown\",\n",
        "    \"gender\": \"female\",\n",
        "    \"hobbies\": [\"shopping\", \"sleeping\"],\n",
        "    \"ethnicity\": \"unknown\",\n",
        "    \"weakness\": \"generous\",\n",
        "    \"birthplace\": \"Mauritius\"\n",
        "}\n",
        "\n",
        "# Constructing a sentence\n",
        "description = f\"My name is {my_info['name']}. I am a {my_info['age']} year old {my_info['gender']} with {my_info['eye_color']} eyes. I was born in {my_info['birthplace']}. My hobbies include {', '.join(my_info['hobbies'])}. I consider myself {my_info['weakness']} and my ethnicity is {my_info['ethnicity']}.\"\n",
        "\n",
        "# Printing the description\n",
        "print(description)\n"
      ],
      "metadata": {
        "id": "-LrKeOBCeZGr"
      },
      "execution_count": null,
      "outputs": []
    },
    {
      "cell_type": "markdown",
      "source": [
        "4. Challenge: Print all keys in your dictionary. Remove a key from your dictionary. Print them again."
      ],
      "metadata": {
        "id": "HxTlJZuCZ2Qi"
      }
    },
    {
      "cell_type": "code",
      "source": [
        "\n",
        "my_info = {\n",
        "    \"name\": \"Roshni\",\n",
        "    \"age\": 22,\n",
        "    \"eye_color\": \"brown\",\n",
        "    \"gender\": \"female\",\n",
        "    \"hobbies\": [\"shopping\", \"sleeping\"],\n",
        "    \"ethnicity\": \"unknown\",\n",
        "    \"weakness\": \"generous\",\n",
        "    \"birthplace\": \"Mauritius\"\n",
        "}\n",
        "\n",
        "# Printing all keys\n",
        "print(\"Original Keys:\", list(my_info.keys()))\n",
        "\n",
        "# Removing a key\n",
        "if \"weakness\" in my_info:\n",
        "    del my_info[\"weakness\"]\n",
        "\n",
        "# Printing keys after removal\n",
        "print(\"Keys after Removal:\", list(my_info.keys()))\n"
      ],
      "metadata": {
        "id": "q3idI__uZ3kL"
      },
      "execution_count": null,
      "outputs": []
    },
    {
      "cell_type": "markdown",
      "source": [
        "5. Challenge: Update the value of a key in your dictionary."
      ],
      "metadata": {
        "id": "Z3yIY93KaLld"
      }
    },
    {
      "cell_type": "code",
      "source": [
        "\n",
        "my_info = {\n",
        "    \"name\": \"Roshni\",\n",
        "    \"age\": 22,\n",
        "    \"eye_color\": \"brown\",\n",
        "    \"gender\": \"female\",\n",
        "    \"hobbies\": [\"shopping\", \"sleeping\"],\n",
        "    \"ethnicity\": \"unknown\",\n",
        "    \"birthplace\": \"Mauritius\"\n",
        "}\n",
        "\n",
        "# Updating the value of the \"age\" key\n",
        "my_info[\"age\"] = 23\n",
        "\n",
        "# Printing the updated dictionary\n",
        "print(\"Updated My Information:\", my_info)\n"
      ],
      "metadata": {
        "id": "W8XX2DbQaOXn"
      },
      "execution_count": null,
      "outputs": []
    },
    {
      "cell_type": "markdown",
      "source": [
        "**Practice with if Statements**"
      ],
      "metadata": {
        "id": "YFJSvLPNad2B"
      }
    },
    {
      "cell_type": "markdown",
      "source": [
        "1. Let x = [12, 3, 31, 6, 14, 7, 10]. Customers are going on a shopping trip. They are able to get a 10% discount if they purchase over 8 items. x is a list of customer item count. Write a python program that returns a list of booleans to let me know which customer will get the discounts."
      ],
      "metadata": {
        "id": "tXXWca8Jafkt"
      }
    },
    {
      "cell_type": "code",
      "source": [
        "\n",
        "x = [12, 3, 31, 6, 14, 7, 10]\n",
        "\n",
        "# Applying the discount eligibility condition\n",
        "discount_eligibility = [count > 8 for count in x]\n",
        "\n",
        "# Printing the list of booleans indicating discount eligibility\n",
        "print(\"Discount Eligibility:\", discount_eligibility)\n"
      ],
      "metadata": {
        "id": "iUIQpcjMdUmt"
      },
      "execution_count": null,
      "outputs": []
    },
    {
      "cell_type": "markdown",
      "source": [
        "2. Write a python program to print the result of the 3rd customer in the list. Will they get a discount?"
      ],
      "metadata": {
        "id": "vYEtcv-xeSf1"
      }
    },
    {
      "cell_type": "code",
      "source": [
        "\n",
        "x = [12, 3, 31, 6, 14, 7, 10]\n",
        "\n",
        "# Checking if the 3rd customer is eligible for a discount\n",
        "customer_index = 2\n",
        "customer_count = x[customer_index]\n",
        "discount_eligibility = customer_count > 8\n",
        "\n",
        "# Printing the result\n",
        "print(f\"Customer {customer_index + 1} has {customer_count} items.\")\n",
        "if discount_eligibility:\n",
        "    print(\"This customer is eligible for a discount.\")\n",
        "else:\n",
        "    print(\"This customer is not eligible for a discount.\")\n"
      ],
      "metadata": {
        "id": "eyPhq2KfeTil"
      },
      "execution_count": null,
      "outputs": []
    },
    {
      "cell_type": "markdown",
      "source": [],
      "metadata": {
        "id": "yWU6wDTXegR6"
      }
    }
  ]
}